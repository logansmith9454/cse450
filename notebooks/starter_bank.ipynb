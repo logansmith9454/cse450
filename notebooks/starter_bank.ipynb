{
  "nbformat": 4,
  "nbformat_minor": 0,
  "metadata": {
    "colab": {
      "name": "starter_bank.ipynb",
      "provenance": [],
      "include_colab_link": true
    },
    "kernelspec": {
      "name": "python3",
      "display_name": "Python 3"
    }
  },
  "cells": [
    {
      "cell_type": "markdown",
      "metadata": {
        "id": "view-in-github",
        "colab_type": "text"
      },
      "source": [
        "<a href=\"https://colab.research.google.com/github/logansmith9454/cse450/blob/main/notebooks/starter_bank.ipynb\" target=\"_parent\"><img src=\"https://colab.research.google.com/assets/colab-badge.svg\" alt=\"Open In Colab\"/></a>"
      ]
    },
    {
      "cell_type": "code",
      "metadata": {
        "id": "mA0HPVmIBT4C"
      },
      "source": [
        "import pandas as pd\n",
        "from sklearn import tree\n",
        "from sklearn.tree import DecisionTreeClassifier\n",
        "from sklearn.ensemble import RandomForestClassifier\n",
        "from sklearn.model_selection import train_test_split\n",
        "import numpy as np\n",
        "from sklearn.metrics import classification_report, roc_auc_score, accuracy_score\n",
        "import matplotlib.pyplot as plt\n",
        "from sklearn.inspection import permutation_importance\n",
        "from sklearn.metrics import confusion_matrix\n",
        "import seaborn as sns\n",
        "from imblearn.over_sampling import RandomOverSampler\n",
        "from google.colab import files"
      ],
      "execution_count": 119,
      "outputs": []
    },
    {
      "cell_type": "code",
      "metadata": {
        "id": "RnGBwGVZPyyh",
        "colab": {
          "base_uri": "https://localhost:8080/"
        },
        "outputId": "54970689-8869-402b-f0e3-1670034fd2e7"
      },
      "source": [
        "campaign = pd.read_csv('https://raw.githubusercontent.com/byui-cse/cse450-course/master/data/bank.csv')\n",
        "campaign.dropna()\n",
        "\n",
        "ro = RandomOverSampler()\n",
        "\n",
        "\n",
        "campaign['y'] = campaign['y'].map({'no': 0, 'yes': 1})\n",
        "campaign['not_contacted'] = (campaign['pdays'] == 999).astype(int)\n",
        "median_pdays = campaign[campaign['pdays'] != 999]['pdays'].median()\n",
        "campaign['pdays'] = campaign['pdays'].replace(999, median_pdays)\n",
        "\n",
        "X = campaign\n",
        "\n",
        "categorical_cols = X.select_dtypes(include=['object']).columns\n",
        "X = pd.get_dummies(X, drop_first=True)\n",
        "y = campaign['y']\n",
        "\n",
        "features_to_drop = ['y',\n",
        "\"month_sep\",\n",
        "\"month_nov\",\n",
        "\"month_mar\",\n",
        "\"month_jun\",\n",
        "\"month_aug\",\n",
        "\"month_may\",\n",
        "\"month_jul\",\n",
        "\"cons.conf.idx\",\n",
        "\"nr.employed\",\n",
        "\"emp.var.rate\",\n",
        "\"pdays\",\n",
        "\"housing_unknown\",\n",
        "\"poutcome_success\",\n",
        "\"loan_unknown\",\n",
        "\"marital_unknown\",\n",
        "\"month_dec\",\n",
        "\"default_yes\",\n",
        "\"education_illiterate\",\n",
        "                    \"job_unknown\"]\n",
        "\n",
        "for feature in features_to_drop:\n",
        "  if feature in X.columns:\n",
        "    X = X.drop(columns=[feature])\n",
        "\n",
        "\n",
        "X_new, y_new = ro.fit_resample(X, y)\n",
        "\n",
        "new_campaign = pd.DataFrame(y_new)\n",
        "\n",
        "X_train, X_test, y_train, y_test = train_test_split(X_new, y_new, test_size=0.1, stratify=y_new, random_state=42)\n",
        "\n",
        "clf = RandomForestClassifier(random_state=42, n_estimators=500, max_depth=12)\n",
        "clf.fit(X_train, y_train)\n",
        "print(clf.score(X_test, y_test))\n",
        "\n",
        "\n",
        "# Predict\n",
        "y_pred = clf.predict(X_test)\n",
        "y_pred_proba = clf.predict_proba(X_test)[:, 1]  # Probs for AUC\n",
        "\n",
        "# Metrics (focus on F1/ROC-AUC for imbalance)\n",
        "print(classification_report(y_test, y_pred))\n",
        "print(f'ROC-AUC: {roc_auc_score(y_test, y_pred_proba):.3f}')"
      ],
      "execution_count": 120,
      "outputs": [
        {
          "output_type": "stream",
          "name": "stdout",
          "text": [
            "0.7825954663015365\n",
            "              precision    recall  f1-score   support\n",
            "\n",
            "           0       0.74      0.86      0.80      3287\n",
            "           1       0.84      0.70      0.76      3286\n",
            "\n",
            "    accuracy                           0.78      6573\n",
            "   macro avg       0.79      0.78      0.78      6573\n",
            "weighted avg       0.79      0.78      0.78      6573\n",
            "\n",
            "ROC-AUC: 0.881\n"
          ]
        }
      ]
    },
    {
      "cell_type": "code",
      "metadata": {
        "id": "d455c71d"
      },
      "source": [
        "# from sklearn.model_selection import RandomizedSearchCV\n",
        "\n",
        "# # Define the parameter distribution for RandomizedSearchCV\n",
        "# param_dist = {\n",
        "#     'max_depth': [None] + list(np.arange(16, 19, 1)), # None or values from 5 to 20 with step 5\n",
        "#     'n_estimators': np.arange(375, 426, 25) # Values from 100 to 600 with step 100\n",
        "# }\n",
        "\n",
        "# # Initialize RandomizedSearchCV\n",
        "# # n_iter is the number of parameter settings that are sampled\n",
        "# # cv is the number of cross-validation folds\n",
        "# random_search = RandomizedSearchCV(estimator=RandomForestClassifier(random_state=42),\n",
        "#                                    param_distributions=param_dist,\n",
        "#                                    n_iter=2, # You can increase this for a more extensive search\n",
        "#                                    cv=5,\n",
        "#                                    scoring='recall', # Use recall as a scoring metric\n",
        "#                                    random_state=42,\n",
        "#                                    n_jobs=-1) # Use all available cores\n",
        "\n",
        "# # Fit RandomizedSearchCV to the training data\n",
        "# random_search.fit(X_train, y_train)\n",
        "\n",
        "# # Print the best parameters and the best score\n",
        "# print(\"Best parameters found by RandomizedSearchCV (scoring on recall):\")\n",
        "# print(random_search.best_params_)\n",
        "# print(f\"Best Recall score on cross-validation: {random_search.best_score_:.3f}\")\n",
        "\n",
        "# # Get the best model\n",
        "# best_rf_clf_recall = random_search.best_estimator_\n",
        "\n",
        "# # Evaluate the best model on the test set\n",
        "# print(\"\\nBest Random Forest Model Performance on Test Set (trained with recall scoring):\")\n",
        "# y_pred_best_rf_recall = best_rf_clf_recall.predict(X_test)\n",
        "# y_pred_proba_best_rf_recall = best_rf_clf_recall.predict_proba(X_test)[:, 1]\n",
        "\n",
        "# print(classification_report(y_test, y_pred_best_rf_recall))\n",
        "# print(f'ROC-AUC: {roc_auc_score(y_test, y_pred_proba_best_rf_recall):.3f}')"
      ],
      "execution_count": 121,
      "outputs": []
    },
    {
      "cell_type": "code",
      "source": [
        "# baseline = accuracy_score(y_test, clf.predict(X_test))\n",
        "# print(f\"Baseline Accuracy: {baseline:.3f}\")\n",
        "\n",
        "# result = permutation_importance(clf, X_test, y_test, n_repeats=10, random_state=42, scoring='accuracy')\n",
        "# importances = result.importances_mean\n",
        "\n",
        "# sorted_idx = importances.argsort()[::-1]\n",
        "# print(\"\\nIndividual Feature Importances (Drop in Accuracy):\")\n",
        "# for i in sorted_idx:\n",
        "#     print(f\"{X.columns[i]}: {importances[i]:.3f} (drop from {baseline:.3f})\")"
      ],
      "metadata": {
        "id": "Lbh01JWJYtcS"
      },
      "execution_count": 122,
      "outputs": []
    },
    {
      "cell_type": "code",
      "source": [
        "cm = confusion_matrix(y_test, clf.predict(X_test))\n",
        "sns.heatmap(cm, annot=True, fmt='d', cmap='Blues', xticklabels=['Predicted: no', 'Predicted: yes'], yticklabels=['Actual: no', 'Actual: yes'])\n",
        "plt.xlabel('Predicted')\n",
        "plt.ylabel('Actual')\n",
        "plt.show()"
      ],
      "metadata": {
        "colab": {
          "base_uri": "https://localhost:8080/",
          "height": 449
        },
        "id": "5J9Fj8nHgEyH",
        "outputId": "f3db1bdd-c82c-4238-d2ef-71e25bea8c4a"
      },
      "execution_count": 123,
      "outputs": [
        {
          "output_type": "display_data",
          "data": {
            "text/plain": [
              "<Figure size 640x480 with 2 Axes>"
            ],
            "image/png": "[encoded data removed]"
          },
          "metadata": {}
        }
      ]
    },
    {
      "cell_type": "code",
      "source": [
        "holdout = pd.read_csv(\"https://raw.githubusercontent.com/byui-cse/cse450-course/master/data/bank_holdout_test_mini.csv\")\n",
        "holdout.dropna()\n",
        "holdout['not_contacted'] = (holdout['pdays'] == 999).astype(int)\n",
        "median_pdays = holdout[holdout['pdays'] != 999]['pdays'].median()\n",
        "holdout['pdays'] = holdout['pdays'].replace(999, median_pdays)\n",
        "\n",
        "features_to_drop = ['y',\n",
        "\"month_sep\",\n",
        "\"month_nov\",\n",
        "\"month_mar\",\n",
        "\"month_jun\",\n",
        "\"month_aug\",\n",
        "\"month_may\",\n",
        "\"month_jul\",\n",
        "\"cons.conf.idx\",\n",
        "\"nr.employed\",\n",
        "\"emp.var.rate\",\n",
        "\"pdays\",\n",
        "\"housing_unknown\",\n",
        "\"poutcome_success\",\n",
        "\"loan_unknown\",\n",
        "\"marital_unknown\",\n",
        "\"month_dec\",\n",
        "\"default_yes\",\n",
        "\"education_illiterate\",\n",
        "                    \"job_unknown\"]\n",
        "\n",
        "for feature in features_to_drop:\n",
        "  if feature in holdout.columns:\n",
        "    holdout = holdout.drop(columns=[feature])\n",
        "\n",
        "# Apply one-hot encoding to the holdout data\n",
        "X_holdout = pd.get_dummies(holdout, drop_first=True)\n",
        "\n",
        "# Get the list of columns from the training data\n",
        "trained_columns = X_new.columns\n",
        "\n",
        "# Reindex the holdout data to match the training data columns and fill missing values with 0\n",
        "X_holdout = X_holdout.reindex(columns=trained_columns, fill_value=0)\n",
        "\n",
        "predictions = clf.predict(X_holdout)\n",
        "predictions = np.array(predictions).astype(int)\n",
        "print(predictions)\n",
        "print(f\"predictions: {len(predictions)}\")\n",
        "print(f\"holdout: {len(holdout)}\")\n",
        "output_df = pd.DataFrame(predictions, columns=['predictions'])\n",
        "\n",
        "output_df.to_csv('team2-module2-predictions.csv', index=False)\n",
        "files.download('team2-module2-predictions.csv')"
      ],
      "metadata": {
        "colab": {
          "base_uri": "https://localhost:8080/",
          "height": 260
        },
        "id": "T2c8CEMZ3T55",
        "outputId": "2fa26ae9-e9f3-4f33-e66d-8caa16c59b3c"
      },
      "execution_count": 124,
      "outputs": [
        {
          "output_type": "stream",
          "name": "stdout",
          "text": [
            "[0 0 1 0 0 1 0 0 0 0 0 0 0 0 0 0 1 1 0 0 1 1 0 1 0 0 1 0 0 0 0 1 0 0 0 0 0\n",
            " 1 0 0 0 0 0 1 1 0 0 0 0 0 1 0 0 0 0 0 0 1 0 0 0 0 0 1 0 0 0 0 1 0 0 0 0 1\n",
            " 0 0 0 0 0 0 0 0 0 0 1 0 0 0 0 0 0 0 1 0 1 1 0 0 0 0 0 1 0 1 0 0 0 0 0 0 0\n",
            " 0 0 0 0 0 0 0 0 0 1 0 0 0 0 0 0 0 0 0 0 0 0 1 0 0 0 0 0 0 1 0 1 1 0 0 0 0\n",
            " 0 0 1 0 0 1 0 1 1 0 0 1 0 0 0 0 0 0 0 1 0 0 0 0 0 0 1 1 0 0 1 0 0 1 0 1 0\n",
            " 1 0 0 0 0 0 0 1 0 1 0 0 0 0 0 1 0 1 0 0 0 0 1 0 0 0 0 0 0 0 0 0 0 0 0 0 0\n",
            " 0 0 0 0 0 1 0 0 0 0 0 0 0 0 0 0 0 0 0 0 0 1 0 0 0 0 1 0 0 0 1 0 0 0 0 0 1\n",
            " 0 0 0 0 1 0 0 0 0 0 0 1 1 0 0 1 0 0 0 0 0 0 0 0 0 0 0 0 1 0 0 0 1 0 0 1 1\n",
            " 0 0 0 0 0 0 0 0 1 0 0 0 0 0 0 1 0 1 0 0 0 0 0 0 0 1 0 0 1 0 0 1 0 1 0 0 0\n",
            " 0 0 0 0 0 0 0 1 1 1 0 0 0 0 1 0 0 1 0 0 0 1 0 0 0 0 1 0 0 0 0 1 0 0 0 0 0\n",
            " 0 0 1 0 0 1 0 0 0 1 0 0 0 0 0 1 0 0 0 1 1 1 0 0 0 0 0 1 0 0 0 0 0 0 1 1 0\n",
            " 0 0 0]\n",
            "predictions: 410\n",
            "holdout: 410\n"
          ]
        },
        {
          "output_type": "display_data",
          "data": {
            "text/plain": [
              "<IPython.core.display.Javascript object>"
            ],
            "application/javascript": [
              "\n",
              "    async function download(id, filename, size) {\n",
              "      if (!google.colab.kernel.accessAllowed) {\n",
              "        return;\n",
              "      }\n",
              "      const div = document.createElement('div');\n",
              "      const label = document.createElement('label');\n",
              "      label.textContent = `Downloading \"${filename}\": `;\n",
              "      div.appendChild(label);\n",
              "      const progress = document.createElement('progress');\n",
              "      progress.max = size;\n",
              "      div.appendChild(progress);\n",
              "      document.body.appendChild(div);\n",
              "\n",
              "      const buffers = [];\n",
              "      let downloaded = 0;\n",
              "\n",
              "      const channel = await google.colab.kernel.comms.open(id);\n",
              "      // Send a message to notify the kernel that we're ready.\n",
              "      channel.send({})\n",
              "\n",
              "      for await (const message of channel.messages) {\n",
              "        // Send a message to notify the kernel that we're ready.\n",
              "        channel.send({})\n",
              "        if (message.buffers) {\n",
              "          for (const buffer of message.buffers) {\n",
              "            buffers.push(buffer);\n",
              "            downloaded += buffer.byteLength;\n",
              "            progress.value = downloaded;\n",
              "          }\n",
              "        }\n",
              "      }\n",
              "      const blob = new Blob(buffers, {type: 'application/binary'});\n",
              "      const a = document.createElement('a');\n",
              "      a.href = window.URL.createObjectURL(blob);\n",
              "      a.download = filename;\n",
              "      div.appendChild(a);\n",
              "      a.click();\n",
              "      div.remove();\n",
              "    }\n",
              "  "
            ]
          },
          "metadata": {}
        },
        {
          "output_type": "display_data",
          "data": {
            "text/plain": [
              "<IPython.core.display.Javascript object>"
            ],
            "application/javascript": [
              "download(\"download_cfe20edd-85fd-4485-b4d3-14e27a77356b\", \"team2-module2-predictions.csv\", 832)"
            ]
          },
          "metadata": {}
        }
      ]
    }
  ]
}