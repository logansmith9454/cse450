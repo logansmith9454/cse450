{
  "nbformat": 4,
  "nbformat_minor": 0,
  "metadata": {
    "colab": {
      "name": "starter_bank.ipynb",
      "provenance": [],
      "include_colab_link": true
    },
    "kernelspec": {
      "name": "python3",
      "display_name": "Python 3"
    }
  },
  "cells": [
    {
      "cell_type": "markdown",
      "metadata": {
        "id": "view-in-github",
        "colab_type": "text"
      },
      "source": [
        "<a href=\"https://colab.research.google.com/github/logansmith9454/cse450/blob/main/notebooks/starter_bank.ipynb\" target=\"_parent\"><img src=\"https://colab.research.google.com/assets/colab-badge.svg\" alt=\"Open In Colab\"/></a>"
      ]
    },
    {
      "cell_type": "code",
      "metadata": {
        "id": "mA0HPVmIBT4C"
      },
      "source": [
        "import pandas as pd\n",
        "from sklearn import tree\n",
        "from sklearn.tree import DecisionTreeClassifier\n",
        "from sklearn.ensemble import RandomForestClassifier\n",
        "from sklearn.model_selection import train_test_split\n",
        "from sklearn.model_selection import cross_val_score\n",
        "import numpy as np\n",
        "from sklearn.metrics import classification_report, roc_auc_score, accuracy_score\n",
        "import matplotlib.pyplot as plt\n",
        "from sklearn.inspection import permutation_importance\n",
        "from sklearn.metrics import confusion_matrix\n",
        "import seaborn as sns\n",
        "from imblearn.over_sampling import RandomOverSampler\n",
        "from sklearn.model_selection import GridSearchCV\n",
        "from google.colab import files"
      ],
      "execution_count": 1,
      "outputs": []
    },
    {
      "cell_type": "code",
      "metadata": {
        "id": "RnGBwGVZPyyh",
        "colab": {
          "base_uri": "https://localhost:8080/"
        },
        "outputId": "a36bd651-144d-47b3-8e15-9e17c5914ecc"
      },
      "source": [
        "campaign = pd.read_csv('https://raw.githubusercontent.com/byui-cse/cse450-course/master/data/bank.csv')\n",
        "campaign.dropna()\n",
        "\n",
        "ro = RandomOverSampler()\n",
        "\n",
        "\n",
        "campaign['y'] = campaign['y'].map({'no': 0, 'yes': 1})\n",
        "campaign['not_contacted'] = (campaign['pdays'] == 999).astype(int)\n",
        "median_pdays = campaign[campaign['pdays'] != 999]['pdays'].median()\n",
        "campaign['pdays'] = campaign['pdays'].replace(999, median_pdays)\n",
        "\n",
        "X = campaign.drop(columns=['y', 'pdays', 'emp.var.rate'])\n",
        "\n",
        "categorical_cols = X.select_dtypes(include=['object']).columns\n",
        "X = pd.get_dummies(X, drop_first=True)\n",
        "y = campaign['y']\n",
        "\n",
        "\n",
        "\n",
        "X_new, y_new = ro.fit_resample(X, y)\n",
        "\n",
        "new_campaign = pd.DataFrame(y_new)\n",
        "\n",
        "X_train, X_test, y_train, y_test = train_test_split(X_new, y_new, test_size=0.1, stratify=y_new, random_state=42)\n",
        "\n",
        "clf = DecisionTreeClassifier()\n",
        "clf.fit(X_train, y_train)\n",
        "print(clf.score(X_test, y_test))\n",
        "\n",
        "\n",
        "# # Predict\n",
        "# y_pred = clf.predict(X_test)\n",
        "# y_pred_proba = clf.predict_proba(X_test)[:, 1]  # Probs for AUC\n",
        "\n",
        "# # Metrics (focus on F1/ROC-AUC for imbalance)\n",
        "# print(classification_report(y_test, y_pred))\n",
        "# print(f'ROC-AUC: {roc_auc_score(y_test, y_pred_proba):.3f}')  # Aim for >0.8\n",
        "\n",
        "# fig, ax = plt.subplots(figsize=(20, 20))\n",
        "# tree.plot_tree(clf, fontsize=10, feature_names=X.columns)\n",
        "# plt.show()"
      ],
      "execution_count": 2,
      "outputs": [
        {
          "output_type": "stream",
          "name": "stdout",
          "text": [
            "0.9499467518636848\n"
          ]
        }
      ]
    },
    {
      "cell_type": "code",
      "source": [
        "baseline = accuracy_score(y_test, clf.predict(X_test))\n",
        "print(f\"Baseline Accuracy: {baseline:.3f}\")\n",
        "\n",
        "result = permutation_importance(clf, X_test, y_test, n_repeats=10, random_state=42, scoring='accuracy')\n",
        "importances = result.importances_mean\n",
        "\n",
        "sorted_idx = importances.argsort()[::-1]\n",
        "print(\"\\nIndividual Feature Importances (Drop in Accuracy):\")\n",
        "for i in sorted_idx:\n",
        "    print(f\"{X.columns[i]}: {importances[i]:.3f} (drop from {baseline:.3f})\")"
      ],
      "metadata": {
        "colab": {
          "base_uri": "https://localhost:8080/"
        },
        "id": "Lbh01JWJYtcS",
        "outputId": "ac5d17fe-8234-4939-e402-08f69f2bb410"
      },
      "execution_count": 3,
      "outputs": [
        {
          "output_type": "stream",
          "name": "stdout",
          "text": [
            "Baseline Accuracy: 0.950\n",
            "\n",
            "Individual Feature Importances (Drop in Accuracy):\n",
            "nr.employed: 0.322 (drop from 0.950)\n",
            "euribor3m: 0.287 (drop from 0.950)\n",
            "age: 0.228 (drop from 0.950)\n",
            "campaign: 0.147 (drop from 0.950)\n",
            "contact_telephone: 0.116 (drop from 0.950)\n",
            "cons.price.idx: 0.081 (drop from 0.950)\n",
            "not_contacted: 0.065 (drop from 0.950)\n",
            "housing_yes: 0.065 (drop from 0.950)\n",
            "day_of_week_mon: 0.045 (drop from 0.950)\n",
            "education_university.degree: 0.044 (drop from 0.950)\n",
            "marital_married: 0.042 (drop from 0.950)\n",
            "marital_single: 0.041 (drop from 0.950)\n",
            "job_technician: 0.039 (drop from 0.950)\n",
            "education_high.school: 0.036 (drop from 0.950)\n",
            "previous: 0.035 (drop from 0.950)\n",
            "loan_yes: 0.035 (drop from 0.950)\n",
            "poutcome_success: 0.035 (drop from 0.950)\n",
            "default_unknown: 0.032 (drop from 0.950)\n",
            "job_blue-collar: 0.032 (drop from 0.950)\n",
            "day_of_week_thu: 0.031 (drop from 0.950)\n",
            "day_of_week_wed: 0.029 (drop from 0.950)\n",
            "day_of_week_tue: 0.025 (drop from 0.950)\n",
            "education_basic.9y: 0.023 (drop from 0.950)\n",
            "poutcome_nonexistent: 0.022 (drop from 0.950)\n",
            "job_services: 0.020 (drop from 0.950)\n",
            "education_professional.course: 0.019 (drop from 0.950)\n",
            "cons.conf.idx: 0.019 (drop from 0.950)\n",
            "job_management: 0.017 (drop from 0.950)\n",
            "month_oct: 0.014 (drop from 0.950)\n",
            "education_basic.6y: 0.013 (drop from 0.950)\n",
            "month_mar: 0.009 (drop from 0.950)\n",
            "job_entrepreneur: 0.009 (drop from 0.950)\n",
            "job_self-employed: 0.009 (drop from 0.950)\n",
            "job_retired: 0.008 (drop from 0.950)\n",
            "education_unknown: 0.007 (drop from 0.950)\n",
            "job_student: 0.005 (drop from 0.950)\n",
            "month_jun: 0.005 (drop from 0.950)\n",
            "job_unemployed: 0.004 (drop from 0.950)\n",
            "month_jul: 0.004 (drop from 0.950)\n",
            "month_may: 0.004 (drop from 0.950)\n",
            "loan_unknown: 0.004 (drop from 0.950)\n",
            "job_housemaid: 0.003 (drop from 0.950)\n",
            "job_unknown: 0.003 (drop from 0.950)\n",
            "housing_unknown: 0.002 (drop from 0.950)\n",
            "month_aug: 0.002 (drop from 0.950)\n",
            "month_nov: 0.001 (drop from 0.950)\n",
            "marital_unknown: 0.001 (drop from 0.950)\n",
            "education_illiterate: 0.000 (drop from 0.950)\n",
            "month_sep: 0.000 (drop from 0.950)\n",
            "month_dec: 0.000 (drop from 0.950)\n",
            "default_yes: 0.000 (drop from 0.950)\n"
          ]
        }
      ]
    },
    {
      "cell_type": "code",
      "source": [
        "cm = confusion_matrix(y_test, clf.predict(X_test))\n",
        "sns.heatmap(cm, annot=True, fmt='d', cmap='Blues', xticklabels=['Predicted: no', 'Predicted: yes'], yticklabels=['Actual: no', 'Actual: yes'])\n",
        "plt.xlabel('Predicted')\n",
        "plt.ylabel('Actual')\n",
        "plt.show()"
      ],
      "metadata": {
        "colab": {
          "base_uri": "https://localhost:8080/",
          "height": 449
        },
        "id": "5J9Fj8nHgEyH",
        "outputId": "7fc1d1a4-0c36-4832-cc37-3c223cb67166"
      },
      "execution_count": 4,
      "outputs": [
        {
          "output_type": "display_data",
          "data": {
            "text/plain": [
              "<Figure size 640x480 with 2 Axes>"
            ],
            "image/png": "[encoded data removed]"
          },
          "metadata": {}
        }
      ]
    },
    {
      "cell_type": "code",
      "source": [
        "holdout = pd.read_csv(\"https://raw.githubusercontent.com/byui-cse/cse450-course/master/data/bank_holdout_test_mini.csv\")\n",
        "holdout.dropna()\n",
        "holdout['not_contacted'] = (holdout['pdays'] == 999).astype(int)\n",
        "median_pdays = holdout[holdout['pdays'] != 999]['pdays'].median()\n",
        "holdout['pdays'] = holdout['pdays'].replace(999, median_pdays)\n",
        "\n",
        "features = holdout.drop(columns=['pdays', 'emp.var.rate'])\n",
        "\n",
        "# Apply one-hot encoding to the holdout data\n",
        "X_holdout = pd.get_dummies(features, drop_first=True)\n",
        "\n",
        "# Get the list of columns from the training data\n",
        "trained_columns = X_new.columns\n",
        "\n",
        "# Reindex the holdout data to match the training data columns and fill missing values with 0\n",
        "X_holdout = X_holdout.reindex(columns=trained_columns, fill_value=0)\n",
        "\n",
        "predictions = clf.predict(X_holdout)\n",
        "predictions = np.array(predictions).astype(int)\n",
        "print(predictions)\n",
        "print(f\"predictions: {len(predictions)}\")\n",
        "print(f\"holdout: {len(holdout)}\")\n",
        "output_df = pd.DataFrame(predictions, columns=['predictions'])\n",
        "\n",
        "output_df.to_csv('team2-module2-predictions.csv', index=False)\n",
        "files.download('team2-module2-predictions.csv')"
      ],
      "metadata": {
        "colab": {
          "base_uri": "https://localhost:8080/",
          "height": 260
        },
        "id": "T2c8CEMZ3T55",
        "outputId": "bad8c12b-508f-4656-9628-8f3ac8dd4180"
      },
      "execution_count": 5,
      "outputs": [
        {
          "output_type": "stream",
          "name": "stdout",
          "text": [
            "[0 0 1 0 0 0 0 0 0 0 0 0 0 0 0 0 0 1 0 0 1 1 0 0 0 0 1 0 0 0 0 0 0 0 0 0 0\n",
            " 0 0 0 0 0 0 1 0 0 0 0 0 0 0 0 0 0 0 0 0 0 0 0 0 0 0 0 0 0 0 1 0 0 0 0 0 0\n",
            " 0 0 0 0 0 0 0 0 0 0 0 0 0 0 0 0 0 0 0 0 1 0 0 0 0 0 0 0 0 0 0 0 0 0 0 0 0\n",
            " 0 0 0 0 0 0 0 0 0 0 0 0 0 0 0 0 0 0 0 0 0 0 1 1 0 0 0 0 0 0 0 0 1 0 0 0 0\n",
            " 0 0 1 0 0 1 0 1 1 0 0 0 0 0 0 0 0 0 1 1 0 0 0 0 1 1 1 1 1 0 0 0 0 0 0 0 0\n",
            " 1 0 0 1 0 0 0 0 0 0 0 0 0 0 0 1 0 1 0 0 0 0 0 0 0 0 0 0 0 0 0 1 0 0 0 0 0\n",
            " 0 0 0 0 0 0 0 0 0 0 0 0 0 0 0 0 0 0 0 0 0 0 0 0 1 1 1 0 0 0 1 0 0 0 0 0 1\n",
            " 0 0 0 0 1 1 0 0 0 0 0 0 1 0 0 0 0 0 0 0 0 0 0 0 0 0 0 0 0 0 0 0 0 0 1 0 0\n",
            " 0 0 0 0 0 0 0 0 0 0 0 0 0 0 0 0 0 1 1 0 1 0 0 0 0 1 0 0 1 0 0 0 0 1 0 0 0\n",
            " 1 0 0 0 1 0 0 1 0 0 0 0 0 0 0 0 0 1 0 0 0 0 0 0 0 0 0 0 0 0 0 1 0 0 0 0 0\n",
            " 0 0 0 0 0 0 0 0 0 1 0 0 1 0 0 0 0 0 0 0 0 0 0 0 0 0 0 0 0 1 0 0 0 1 0 0 0\n",
            " 0 0 0]\n",
            "predictions: 410\n",
            "holdout: 410\n"
          ]
        },
        {
          "output_type": "display_data",
          "data": {
            "text/plain": [
              "<IPython.core.display.Javascript object>"
            ],
            "application/javascript": [
              "\n",
              "    async function download(id, filename, size) {\n",
              "      if (!google.colab.kernel.accessAllowed) {\n",
              "        return;\n",
              "      }\n",
              "      const div = document.createElement('div');\n",
              "      const label = document.createElement('label');\n",
              "      label.textContent = `Downloading \"${filename}\": `;\n",
              "      div.appendChild(label);\n",
              "      const progress = document.createElement('progress');\n",
              "      progress.max = size;\n",
              "      div.appendChild(progress);\n",
              "      document.body.appendChild(div);\n",
              "\n",
              "      const buffers = [];\n",
              "      let downloaded = 0;\n",
              "\n",
              "      const channel = await google.colab.kernel.comms.open(id);\n",
              "      // Send a message to notify the kernel that we're ready.\n",
              "      channel.send({})\n",
              "\n",
              "      for await (const message of channel.messages) {\n",
              "        // Send a message to notify the kernel that we're ready.\n",
              "        channel.send({})\n",
              "        if (message.buffers) {\n",
              "          for (const buffer of message.buffers) {\n",
              "            buffers.push(buffer);\n",
              "            downloaded += buffer.byteLength;\n",
              "            progress.value = downloaded;\n",
              "          }\n",
              "        }\n",
              "      }\n",
              "      const blob = new Blob(buffers, {type: 'application/binary'});\n",
              "      const a = document.createElement('a');\n",
              "      a.href = window.URL.createObjectURL(blob);\n",
              "      a.download = filename;\n",
              "      div.appendChild(a);\n",
              "      a.click();\n",
              "      div.remove();\n",
              "    }\n",
              "  "
            ]
          },
          "metadata": {}
        },
        {
          "output_type": "display_data",
          "data": {
            "text/plain": [
              "<IPython.core.display.Javascript object>"
            ],
            "application/javascript": [
              "download(\"download_fae0bc5b-f7d2-41b9-9b18-b6e2e81e7324\", \"team2-module2-predictions.csv\", 832)"
            ]
          },
          "metadata": {}
        }
      ]
    }
  ]
}