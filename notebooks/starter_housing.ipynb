{
  "cells": [
    {
      "cell_type": "markdown",
      "metadata": {
        "id": "view-in-github",
        "colab_type": "text"
      },
      "source": [
        "<a href=\"https://colab.research.google.com/github/logansmith9454/cse450/blob/main/notebooks/starter_housing.ipynb\" target=\"_parent\"><img src=\"https://colab.research.google.com/assets/colab-badge.svg\" alt=\"Open In Colab\"/></a>"
      ]
    },
    {
      "cell_type": "code",
      "source": [
        "# !pip install scikit-learn==1.5.2\n",
        "# !pip install --upgrade xgboost scikit-learn"
      ],
      "metadata": {
        "id": "VDIz_xFFeQKF"
      },
      "execution_count": 232,
      "outputs": []
    },
    {
      "cell_type": "code",
      "execution_count": 233,
      "metadata": {
        "id": "6GS8w4cXXxB1"
      },
      "outputs": [],
      "source": [
        "from xgboost import XGBRegressor\n",
        "from sklearn.preprocessing import MinMaxScaler\n",
        "from sklearn.model_selection import train_test_split\n",
        "from sklearn.metrics import accuracy_score, mean_squared_error\n",
        "import pandas as pd\n",
        "import numpy as np\n",
        "import seaborn as sns\n",
        "import folium\n",
        "from folium.plugins import MarkerCluster\n",
        "from IPython.display import display, HTML\n",
        "from branca.colormap import LinearColormap\n",
        "from google.colab import files\n",
        "from sklearn.model_selection import GridSearchCV"
      ]
    },
    {
      "cell_type": "code",
      "execution_count": 234,
      "metadata": {
        "id": "mA0HPVmIBT4C",
        "colab": {
          "base_uri": "https://localhost:8080/"
        },
        "outputId": "cb1e0d90-b1db-4942-9fe8-fe82a9b8b427"
      },
      "outputs": [
        {
          "output_type": "stream",
          "name": "stdout",
          "text": [
            "<class 'pandas.core.frame.DataFrame'>\n",
            "RangeIndex: 20000 entries, 0 to 19999\n",
            "Data columns (total 21 columns):\n",
            " #   Column         Non-Null Count  Dtype  \n",
            "---  ------         --------------  -----  \n",
            " 0   id             20000 non-null  int64  \n",
            " 1   date           20000 non-null  object \n",
            " 2   bedrooms       20000 non-null  int64  \n",
            " 3   bathrooms      20000 non-null  float64\n",
            " 4   sqft_living    20000 non-null  int64  \n",
            " 5   sqft_lot       20000 non-null  int64  \n",
            " 6   floors         20000 non-null  float64\n",
            " 7   waterfront     20000 non-null  int64  \n",
            " 8   view           20000 non-null  int64  \n",
            " 9   condition      20000 non-null  int64  \n",
            " 10  grade          20000 non-null  int64  \n",
            " 11  sqft_above     20000 non-null  int64  \n",
            " 12  sqft_basement  20000 non-null  int64  \n",
            " 13  yr_built       20000 non-null  int64  \n",
            " 14  yr_renovated   20000 non-null  int64  \n",
            " 15  zipcode        20000 non-null  int64  \n",
            " 16  lat            20000 non-null  float64\n",
            " 17  long           20000 non-null  float64\n",
            " 18  sqft_living15  20000 non-null  int64  \n",
            " 19  sqft_lot15     20000 non-null  int64  \n",
            " 20  price          20000 non-null  float64\n",
            "dtypes: float64(5), int64(15), object(1)\n",
            "memory usage: 3.2+ MB\n"
          ]
        }
      ],
      "source": [
        "housing = pd.read_csv('https://raw.githubusercontent.com/byui-cse/cse450-course/master/data/housing.csv')\n",
        "housing.info()"
      ]
    },
    {
      "cell_type": "code",
      "source": [
        "def format_data(dataset):\n",
        "  dataset['is_renovated'] = (dataset['yr_renovated'] != 0).astype(int)\n",
        "  ren_med = dataset[dataset['yr_renovated'] != 0]['yr_renovated'].median()\n",
        "  dataset['yr_renovated'] = dataset['yr_renovated'].replace(0, ren_med)\n",
        "\n",
        "  dataset['has_basement'] = (dataset['sqft_basement'] != 0).astype(int)\n",
        "  base_med = dataset[dataset['sqft_basement'] != 0]['sqft_basement'].median()\n",
        "  dataset['sqft_basement'] = dataset['sqft_basement'].replace(0, base_med)\n",
        "\n",
        "  grade_bins = [0, 3, 7, 11, 13]\n",
        "  grade_labels = ['low', 'medium', 'high', 'very high']\n",
        "  dataset['grade_category'] = pd.cut(dataset['grade'], bins=grade_bins, labels=grade_labels)\n",
        "\n",
        "\n",
        "  continuous_features = ['id', 'date', 'bedrooms', 'sqft_living', 'sqft_lot', 'sqft_above', 'sqft_basement', 'yr_built', 'yr_renovated', 'lat', 'long', 'sqft_living15', 'sqft_lot15']\n",
        "  discrete_features = ['floors', 'waterfront', 'view', 'condition', 'grade_category', 'zipcode', 'bathrooms', 'has_basement', 'is_renovated']\n",
        "\n",
        "  # columns_to_drop = ['lat', 'long', 'id', 'date']\n",
        "  columns_to_drop = ['id', 'date']\n",
        "  for column in columns_to_drop:\n",
        "    if column in continuous_features:\n",
        "      continuous_features.remove(column)\n",
        "    if column in discrete_features:\n",
        "      discrete_features.remove(column)\n",
        "  if 'price' in dataset.columns:\n",
        "    y = dataset['price']\n",
        "    columns_to_drop.append('price')\n",
        "    X = dataset.drop(columns_to_drop, axis=1)\n",
        "    X = pd.get_dummies(X, columns=discrete_features, drop_first=True)\n",
        "  else:\n",
        "    y = None\n",
        "    X = dataset.drop(columns_to_drop, axis=1)\n",
        "    X = pd.get_dummies(X, columns=discrete_features, drop_first=True)\n",
        "\n",
        "  new_features_to_drop = [\"bathrooms_5.5\",\n",
        "                          \"bathrooms_5.7\",\n",
        "                          \"bathrooms_7.5\",\n",
        "                          \"bathrooms_6.5\",\n",
        "                          \"bathrooms_6.75\",\n",
        "                          \"bathrooms_0.5\",\n",
        "                          \"zipcode_98198\",\n",
        "                          \"bathrooms_1.2\",\n",
        "                          \"bathrooms_0.7\",\n",
        "                          \"bathrooms_5.7\",\n",
        "                          \"zipcode_98155\",\n",
        "                          \"zipcode_98148\",\n",
        "                          \"bathrooms_1.25\",\n",
        "                          \"bathrooms_0.75\",\n",
        "                          \"bathrooms_5.75\",\n",
        "                          \"zipcode_98042\",\n",
        "                          \"zipcode_98058\",\n",
        "                          \"zipcode_98056\",\n",
        "                          \"bathrooms_1.75\",\n",
        "                          \"bathrooms_5.25\",\n",
        "                          \"floors_3.5\",\n",
        "                          \"grade_category_very high\",\n",
        "                          \"zipcode_98030\",\n",
        "                          \"zipcode_98022\",\n",
        "                          \"zipcode_98007\",\n",
        "                          \"zipcode_98002\",\n",
        "                          \"zipcode_98116\",\n",
        "                          \"zipcode_98117\",\n",
        "                          \"zipcode_98055\",\n",
        "                          \"zipcode_98077\",\n",
        "                          \"zipcode_98028\",\n",
        "                          \"zipcode_98188\",\n",
        "                          \"zipcode_98038\",\n",
        "                          \"zipcode_98070\",\n",
        "                          \"zipcode_98031\",\n",
        "                          \"zipcode_98032\",\n",
        "                          \"zipcode_98019\",\n",
        "                          \"bathrooms_4.25\",\n",
        "                          \"bathrooms_2.0\",\n",
        "                          \"zipcode_98003\"\n",
        "\n",
        "                          ]\n",
        "  for feature in new_features_to_drop:\n",
        "    if feature in X.columns:\n",
        "      X.drop(feature, axis=1, inplace=True)\n",
        "  for feature in new_features_to_drop:\n",
        "    if feature in discrete_features:\n",
        "      discrete_features.remove(feature)\n",
        "    if feature in continuous_features:\n",
        "      continuous_features.remove(feature)\n",
        "  return X, y, continuous_features, discrete_features\n",
        "\n",
        "\n",
        "def create_model(X, y, continuous_features, discrete_features):\n",
        "  X_train, X_test, y_train, y_test = train_test_split(X, y, test_size=0.2, random_state=42)\n",
        "\n",
        "  scaler = MinMaxScaler()\n",
        "  X_train[continuous_features] = scaler.fit_transform(X_train[continuous_features])\n",
        "  X_test[continuous_features] = scaler.transform(X_test[continuous_features])\n",
        "  model = XGBRegressor(n_estimators=150, learning_rate=0.6, max_depth=3)\n",
        "\n",
        "  return model, continuous_features, discrete_features, X_train, X_test, y_train, y_test"
      ],
      "metadata": {
        "id": "QjwUiQ8a_xww"
      },
      "execution_count": 235,
      "outputs": []
    },
    {
      "cell_type": "code",
      "metadata": {
        "id": "e7d9472c"
      },
      "source": [
        "X, y, continuous_features, discrete_features = format_data(housing)\n",
        "model, continuous_features, discrete_features, X_train, X_test, y_train, y_test = create_model(X, y, continuous_features, discrete_features)\n",
        "# sns.pairplot(X_train.join(y_train), y_vars=['price'], x_vars=continuous_features)"
      ],
      "execution_count": 236,
      "outputs": []
    },
    {
      "cell_type": "code",
      "source": [
        "# Create a pairplot to visualize the relationships of discrete features in the training set after one-hot encoding\n",
        "# g = sns.PairGrid(housing, y_vars=['price'], x_vars=discrete_features)\n",
        "# g.map(sns.boxplot)"
      ],
      "metadata": {
        "id": "zyutwe1r23F8"
      },
      "execution_count": 237,
      "outputs": []
    },
    {
      "cell_type": "code",
      "execution_count": 238,
      "metadata": {
        "colab": {
          "base_uri": "https://localhost:8080/"
        },
        "id": "StiU5QcPPxqQ",
        "outputId": "a404b931-1f56-4586-9b1f-99adf250a26a"
      },
      "outputs": [
        {
          "output_type": "stream",
          "name": "stdout",
          "text": [
            "Mean Squared Error: 18325814425.37332\n",
            "Root Mean Squared Error: $135,372.87\n"
          ]
        }
      ],
      "source": [
        "model.fit(X_train, y_train)\n",
        "\n",
        "y_pred = model.predict(X_test)\n",
        "mse = mean_squared_error(y_test, y_pred)\n",
        "print(f\"Mean Squared Error: {mse}\")\n",
        "print(f\"Root Mean Squared Error: ${mse**0.5:,.2f}\")"
      ]
    },
    {
      "cell_type": "code",
      "metadata": {
        "id": "f4e28070"
      },
      "source": [
        "# center_lat = housing['lat'].mean()\n",
        "# center_lon = housing['long'].mean()\n",
        "\n",
        "# m = folium.Map(location=[center_lat, center_lon], zoom_start=10, tiles='OpenStreetMap')\n",
        "\n",
        "# # Create a color map based on price\n",
        "# min_price = housing['price'].min()\n",
        "# max_price = housing['price'].max()\n",
        "# colormap = LinearColormap(['green', 'yellow', 'red'], vmin=min_price, vmax=max_price)\n",
        "\n",
        "# # Add markers for each house, color-coded by price\n",
        "# for idx, row in housing.iterrows():\n",
        "#     folium.CircleMarker(\n",
        "#         location=[row['lat'], row['long']],\n",
        "#         radius=5,\n",
        "#         color=colormap(row['price']),\n",
        "#         fill=True,\n",
        "#         fill_color=colormap(row['price']),\n",
        "#         fill_opacity=0.7\n",
        "#     ).add_to(m)\n",
        "\n",
        "# # Add the colormap to the map\n",
        "# colormap.add_to(m)\n",
        "\n",
        "# display(m)"
      ],
      "execution_count": 239,
      "outputs": []
    },
    {
      "cell_type": "code",
      "source": [],
      "metadata": {
        "id": "qm_Ji-F6hVb8"
      },
      "execution_count": 239,
      "outputs": []
    },
    {
      "cell_type": "code",
      "execution_count": 239,
      "metadata": {
        "id": "ALLMN63FPyEQ"
      },
      "outputs": [],
      "source": []
    },
    {
      "cell_type": "code",
      "execution_count": 240,
      "metadata": {
        "id": "RnGBwGVZPyyh",
        "colab": {
          "base_uri": "https://localhost:8080/"
        },
        "outputId": "42681f5b-2d0c-4aa4-dbed-8e3accba99dc"
      },
      "outputs": [
        {
          "output_type": "stream",
          "name": "stdout",
          "text": [
            "[ 919691 1228874  876685  819894 1011744  927060 1490721 1006000  864655\n",
            " 1035394  927119  946889 1064029  946889  849487  925785 2241389  727093\n",
            "  872749 1034452  748858 1609834 1001170 1028024 1051604  903985 2089808\n",
            "  993751 1378502 1264521 3275754  909932  823326  723353  946889 1548096\n",
            "  896269 1057727  921324  946152 1056355  845216  819952 1901341  726530\n",
            " 1066873  742003 1008196 1609834 1027755  894110 1609834 1040004  849487\n",
            " 1074409  920030  919691  946889 1023203 1609834 1031872  876685 1066858\n",
            "  874711 2189030 1023203  876685  976782 1018373  902393  843276 1018265\n",
            " 1081954 1609834 2125813 1946305  646476 1276243  839890 1028024 1043321]\n",
            "predictions: 81\n",
            "holdout: 81\n"
          ]
        }
      ],
      "source": [
        "mini_holdout = pd.read_csv(\"https://raw.githubusercontent.com/byui-cse/cse450-course/master/data/housing_holdout_test_mini.csv\")\n",
        "\n",
        "X_holdout = format_data(mini_holdout)[0]\n",
        "\n",
        "# Reindex X_holdout to match the columns of X_train\n",
        "X_holdout = X_holdout.reindex(columns=X_train.columns, fill_value=0)\n",
        "\n",
        "\n",
        "# Make predictions using the already trained model\n",
        "predictions = model.predict(X_holdout)\n",
        "\n",
        "predictions = np.array(predictions).astype(int)\n",
        "print(predictions)\n",
        "print(f\"predictions: {len(predictions)}\")\n",
        "print(f\"holdout: {len(mini_holdout)}\")\n",
        "output_df = pd.DataFrame(predictions, columns=['predictions'])\n",
        "\n",
        "file_number = 1\n",
        "file_name = f'{file_number}-mini-predictions.csv'\n",
        "# output_df.to_csv(file_name, index=False)\n",
        "# files.download(file_name)"
      ]
    },
    {
      "cell_type": "code",
      "execution_count": 240,
      "metadata": {
        "id": "CVSfaqgKPzE2"
      },
      "outputs": [],
      "source": []
    },
    {
      "cell_type": "code",
      "metadata": {
        "colab": {
          "base_uri": "https://localhost:8080/",
          "height": 843
        },
        "id": "a07ae415",
        "outputId": "e48a51d7-8924-47de-a87e-7c53b691f015"
      },
      "source": [
        "# Get feature importances from the trained model\n",
        "feature_importances = model.feature_importances_\n",
        "\n",
        "# Create a pandas Series for easier visualization\n",
        "feature_importances_series = pd.Series(feature_importances, index=X_train.columns)\n",
        "\n",
        "# Sort the features by importance\n",
        "sorted_feature_importances = feature_importances_series.sort_values(ascending=False)\n",
        "\n",
        "# Print the sorted feature importances\n",
        "print(\"Feature Importances:\")\n",
        "print(sorted_feature_importances.tail(10))\n",
        "\n",
        "# Optionally, visualize the top N features\n",
        "import matplotlib.pyplot as plt\n",
        "\n",
        "plt.figure(figsize=(10, 6))\n",
        "sorted_feature_importances[:10].plot(kind='bar')\n",
        "plt.title(\"Top 10 Feature Importances\")\n",
        "plt.ylabel(\"Importance\")\n",
        "plt.show()"
      ],
      "execution_count": 241,
      "outputs": [
        {
          "output_type": "stream",
          "name": "stdout",
          "text": [
            "Feature Importances:\n",
            "condition_4       0.001155\n",
            "zipcode_98008     0.001091\n",
            "bathrooms_5.0     0.001088\n",
            "bathrooms_4.75    0.001029\n",
            "zipcode_98168     0.001001\n",
            "bathrooms_1.5     0.000857\n",
            "bathrooms_4.0     0.000817\n",
            "zipcode_98023     0.000758\n",
            "zipcode_98136     0.000680\n",
            "has_basement_1    0.000179\n",
            "dtype: float32\n"
          ]
        },
        {
          "output_type": "display_data",
          "data": {
            "text/plain": [
              "<Figure size 1000x600 with 1 Axes>"
            ],
            "image/png": "[encoded data removed]"
          },
          "metadata": {}
        }
      ]
    }
  ],
  "metadata": {
    "colab": {
      "name": "starter_housing.ipynb",
      "provenance": [],
      "include_colab_link": true
    },
    "kernelspec": {
      "display_name": "Python 3",
      "name": "python3"
    }
  },
  "nbformat": 4,
  "nbformat_minor": 0
}