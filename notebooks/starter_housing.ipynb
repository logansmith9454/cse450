{
  "cells": [
    {
      "cell_type": "markdown",
      "metadata": {
        "id": "view-in-github",
        "colab_type": "text"
      },
      "source": [
        "<a href=\"https://colab.research.google.com/github/logansmith9454/cse450/blob/main/notebooks/starter_housing.ipynb\" target=\"_parent\"><img src=\"https://colab.research.google.com/assets/colab-badge.svg\" alt=\"Open In Colab\"/></a>"
      ]
    },
    {
      "cell_type": "code",
      "source": [
        "# !pip install scikit-learn==1.5.2\n",
        "# !pip install --upgrade xgboost scikit-learn"
      ],
      "metadata": {
        "id": "VDIz_xFFeQKF"
      },
      "execution_count": 336,
      "outputs": []
    },
    {
      "cell_type": "code",
      "execution_count": 337,
      "metadata": {
        "id": "6GS8w4cXXxB1"
      },
      "outputs": [],
      "source": [
        "from xgboost import XGBRegressor\n",
        "from sklearn.preprocessing import MinMaxScaler\n",
        "from sklearn.model_selection import train_test_split\n",
        "from sklearn.metrics import accuracy_score, mean_squared_error\n",
        "import pandas as pd\n",
        "import numpy as np\n",
        "import seaborn as sns\n",
        "import folium\n",
        "from folium.plugins import MarkerCluster\n",
        "from IPython.display import display, HTML\n",
        "from branca.colormap import LinearColormap\n",
        "from google.colab import files\n",
        "from sklearn.model_selection import GridSearchCV"
      ]
    },
    {
      "cell_type": "code",
      "execution_count": 338,
      "metadata": {
        "id": "mA0HPVmIBT4C",
        "colab": {
          "base_uri": "https://localhost:8080/"
        },
        "outputId": "7809a625-408e-405e-a629-61cee2c13e53"
      },
      "outputs": [
        {
          "output_type": "stream",
          "name": "stdout",
          "text": [
            "<class 'pandas.core.frame.DataFrame'>\n",
            "RangeIndex: 20000 entries, 0 to 19999\n",
            "Data columns (total 21 columns):\n",
            " #   Column         Non-Null Count  Dtype  \n",
            "---  ------         --------------  -----  \n",
            " 0   id             20000 non-null  int64  \n",
            " 1   date           20000 non-null  object \n",
            " 2   bedrooms       20000 non-null  int64  \n",
            " 3   bathrooms      20000 non-null  float64\n",
            " 4   sqft_living    20000 non-null  int64  \n",
            " 5   sqft_lot       20000 non-null  int64  \n",
            " 6   floors         20000 non-null  float64\n",
            " 7   waterfront     20000 non-null  int64  \n",
            " 8   view           20000 non-null  int64  \n",
            " 9   condition      20000 non-null  int64  \n",
            " 10  grade          20000 non-null  int64  \n",
            " 11  sqft_above     20000 non-null  int64  \n",
            " 12  sqft_basement  20000 non-null  int64  \n",
            " 13  yr_built       20000 non-null  int64  \n",
            " 14  yr_renovated   20000 non-null  int64  \n",
            " 15  zipcode        20000 non-null  int64  \n",
            " 16  lat            20000 non-null  float64\n",
            " 17  long           20000 non-null  float64\n",
            " 18  sqft_living15  20000 non-null  int64  \n",
            " 19  sqft_lot15     20000 non-null  int64  \n",
            " 20  price          20000 non-null  float64\n",
            "dtypes: float64(5), int64(15), object(1)\n",
            "memory usage: 3.2+ MB\n"
          ]
        }
      ],
      "source": [
        "housing = pd.read_csv('https://raw.githubusercontent.com/byui-cse/cse450-course/master/data/housing.csv')\n",
        "housing.info()"
      ]
    },
    {
      "cell_type": "code",
      "source": [
        "\n",
        "X = housing.drop(columns=['price', 'date'])\n",
        "y = housing['price']\n",
        "\n",
        "X_train, X_test, y_train, y_test = train_test_split(X, y, test_size=0.2, random_state=42)\n",
        "\n",
        "model = XGBRegressor(n_estimators=1000, learning_rate=0.05, n_jobs=4, random_state=42, enable_categorical = True)\n",
        "model.fit(X_train, y_train)\n",
        "\n",
        "y_pred = model.predict(X_test)\n",
        "mse = mean_squared_error(y_test, y_pred)\n",
        "print(f\"Mean Squared Error: {mse}\")\n",
        "print(f\"Root Mean Squared Error: {mse ** 0.5:,.2f}\")\n"
      ],
      "metadata": {
        "colab": {
          "base_uri": "https://localhost:8080/"
        },
        "id": "aW2MyK5s6V7y",
        "outputId": "331bad0d-7c7b-4a3b-aa33-8e471bb48e61"
      },
      "execution_count": 342,
      "outputs": [
        {
          "output_type": "stream",
          "name": "stdout",
          "text": [
            "Mean Squared Error: 18206989087.988014\n",
            "Root Mean Squared Error: 134,933.28\n"
          ]
        }
      ]
    }
  ],
  "metadata": {
    "colab": {
      "name": "starter_housing.ipynb",
      "provenance": [],
      "include_colab_link": true
    },
    "kernelspec": {
      "display_name": "Python 3",
      "name": "python3"
    }
  },
  "nbformat": 4,
  "nbformat_minor": 0
}